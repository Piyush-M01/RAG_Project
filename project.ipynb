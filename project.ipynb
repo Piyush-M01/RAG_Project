{
 "cells": [
  {
   "cell_type": "code",
   "execution_count": 1,
   "metadata": {},
   "outputs": [
    {
     "name": "stderr",
     "output_type": "stream",
     "text": [
      "/home/piyush/.local/lib/python3.12/site-packages/tqdm/auto.py:21: TqdmWarning: IProgress not found. Please update jupyter and ipywidgets. See https://ipywidgets.readthedocs.io/en/stable/user_install.html\n",
      "  from .autonotebook import tqdm as notebook_tqdm\n",
      "2024-09-18 00:09:02.256670: E external/local_xla/xla/stream_executor/cuda/cuda_fft.cc:485] Unable to register cuFFT factory: Attempting to register factory for plugin cuFFT when one has already been registered\n",
      "2024-09-18 00:09:02.272063: E external/local_xla/xla/stream_executor/cuda/cuda_dnn.cc:8454] Unable to register cuDNN factory: Attempting to register factory for plugin cuDNN when one has already been registered\n",
      "2024-09-18 00:09:02.276814: E external/local_xla/xla/stream_executor/cuda/cuda_blas.cc:1452] Unable to register cuBLAS factory: Attempting to register factory for plugin cuBLAS when one has already been registered\n",
      "2024-09-18 00:09:02.289296: I tensorflow/core/platform/cpu_feature_guard.cc:210] This TensorFlow binary is optimized to use available CPU instructions in performance-critical operations.\n",
      "To enable the following instructions: AVX2 FMA, in other operations, rebuild TensorFlow with the appropriate compiler flags.\n",
      "2024-09-18 00:09:16.571481: W tensorflow/compiler/tf2tensorrt/utils/py_utils.cc:38] TF-TRT Warning: Could not find TensorRT\n"
     ]
    }
   ],
   "source": [
    "from llama_index.core import Settings, VectorStoreIndex, SimpleDirectoryReader\n",
    "from llama_index.embeddings.huggingface import HuggingFaceEmbedding\n",
    "from llama_index.llms.replicate import Replicate\n",
    "from transformers import AutoTokenizer"
   ]
  },
  {
   "cell_type": "code",
   "execution_count": 2,
   "metadata": {},
   "outputs": [
    {
     "name": "stderr",
     "output_type": "stream",
     "text": [
      "/home/piyush/.local/lib/python3.12/site-packages/torch/cuda/__init__.py:128: UserWarning: CUDA initialization: CUDA unknown error - this may be due to an incorrectly set up environment, e.g. changing env variable CUDA_VISIBLE_DEVICES after program start. Setting the available devices to be zero. (Triggered internally at ../c10/cuda/CUDAFunctions.cpp:108.)\n",
      "  return torch._C._cuda_getDeviceCount() > 0\n"
     ]
    }
   ],
   "source": [
    "from llama_index.llms.ollama import Ollama\n",
    "\n",
    "# set the LLM\n",
    "llama2_7b_chat = \"llama2\"\n",
    "Settings.llm = Ollama(\n",
    "    model=llama2_7b_chat,\n",
    "    temperature=0.01,\n",
    "    request_timeout=3000.0,\n",
    "    additional_kwargs={\"top_p\": 1, \"max_new_tokens\": 300},\n",
    ")\n",
    "\n",
    "# set tokenizer to match LLM\n",
    "Settings.tokenizer = AutoTokenizer.from_pretrained(\n",
    "    \"NousResearch/Llama-2-7b-chat-hf\"\n",
    ")\n",
    "\n",
    "# set the embed model\n",
    "Settings.embed_model = HuggingFaceEmbedding(\n",
    "    model_name=\"BAAI/bge-small-en-v1.5\"\n",
    ")\n",
    "\n",
    "documents = SimpleDirectoryReader(\"Data/\").load_data()\n",
    "index = VectorStoreIndex.from_documents(\n",
    "    documents,\n",
    ")"
   ]
  },
  {
   "cell_type": "code",
   "execution_count": 5,
   "metadata": {},
   "outputs": [],
   "source": [
    "import nest_asyncio\n",
    "nest_asyncio.apply()\n",
    "query_engine = index.as_query_engine(streaming=False)\n",
    "query = query_engine.query(\"What is the pdf all about?\")"
   ]
  },
  {
   "cell_type": "code",
   "execution_count": 14,
   "metadata": {},
   "outputs": [
    {
     "data": {
      "text/plain": [
       "'The PDF appears to be a documentation for an academic project related to game development. The document provides an overview of the concepts and techniques used in the project, including encapsulation, inheritance, dynamic memory allocation, constructors, destructors, and polymorphism.\\n\\nBased on the context information provided, it seems that the PDF is discussing the implementation details of a game development project, specifically focusing on the use of object-oriented programming (OOP) concepts to create a game engine. The document provides examples and explanations of how these concepts are applied in the project, such as using constructors to initialize class members and destructors to release dynamic memory allocations.\\n\\nOverall, the PDF appears to be a valuable resource for anyone interested in learning about the application of OOP concepts in game development, including students, researchers, or developers looking to improve their understanding of these important programming principles.'"
      ]
     },
     "execution_count": 14,
     "metadata": {},
     "output_type": "execute_result"
    }
   ],
   "source": [
    "str(query)"
   ]
  },
  {
   "cell_type": "code",
   "execution_count": 16,
   "metadata": {},
   "outputs": [],
   "source": [
    "index.storage_context.persist('./vector_store')"
   ]
  },
  {
   "cell_type": "code",
   "execution_count": 18,
   "metadata": {},
   "outputs": [],
   "source": [
    "# To reload from disk:\n",
    "\n",
    "from llama_index.core import StorageContext, load_index_from_storage\n",
    "\n",
    "# rebuild storage context\n",
    "storage_context = StorageContext.from_defaults(persist_dir=\"./vector_store\")\n",
    "# load index\n",
    "index = load_index_from_storage(storage_context)"
   ]
  },
  {
   "cell_type": "code",
   "execution_count": 19,
   "metadata": {},
   "outputs": [
    {
     "data": {
      "text/plain": [
       "'The PDF appears to be a documentation for an academic project related to game development. The document provides an overview of the concepts and techniques used in the project, including encapsulation, inheritance, dynamic memory allocation, constructors, destructors, and polymorphism.\\n\\nBased on the context information provided, it seems that the PDF is discussing the implementation details of a game development project, specifically focusing on the use of object-oriented programming (OOP) concepts to create a game engine. The document provides examples and explanations of how these concepts are applied in the project, such as using constructors to initialize class members and destructors to release dynamic memory allocations.\\n\\nOverall, the PDF appears to be a valuable resource for anyone interested in learning about the application of OOP concepts in game development, including students, researchers, or developers looking to improve their understanding of these important programming principles.'"
      ]
     },
     "execution_count": 19,
     "metadata": {},
     "output_type": "execute_result"
    }
   ],
   "source": [
    "import nest_asyncio\n",
    "nest_asyncio.apply()\n",
    "query_engine = index.as_query_engine(streaming=False)\n",
    "query = query_engine.query(\"What is the pdf all about?\")\n",
    "str(query)"
   ]
  },
  {
   "cell_type": "code",
   "execution_count": null,
   "metadata": {},
   "outputs": [],
   "source": []
  }
 ],
 "metadata": {
  "kernelspec": {
   "display_name": "Python 3 (ipykernel)",
   "language": "python",
   "name": "python3"
  },
  "language_info": {
   "codemirror_mode": {
    "name": "ipython",
    "version": 3
   },
   "file_extension": ".py",
   "mimetype": "text/x-python",
   "name": "python",
   "nbconvert_exporter": "python",
   "pygments_lexer": "ipython3",
   "version": "3.12.3"
  }
 },
 "nbformat": 4,
 "nbformat_minor": 4
}
